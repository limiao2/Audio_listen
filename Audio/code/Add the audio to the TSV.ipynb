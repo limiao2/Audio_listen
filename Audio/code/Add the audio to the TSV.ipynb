{
 "cells": [
  {
   "cell_type": "code",
   "execution_count": 1,
   "metadata": {
    "collapsed": true
   },
   "outputs": [],
   "source": [
    "import pandas as pd\n",
    "import numpy as np\n",
    "from IPython.display import Audio,display\n",
    "import os\n",
    "from ipywidgets import widgets\n",
    "from IPython.display import clear_output"
   ]
  },
  {
   "cell_type": "code",
   "execution_count": 2,
   "metadata": {
    "collapsed": true
   },
   "outputs": [],
   "source": [
    "file_path = 'audio_423/cuviewspeakerlogs.en-US.20170301_20170531.ss.tsv.contactnamerule'\n",
    "df = pd.read_table(file_path)"
   ]
  },
  {
   "cell_type": "code",
   "execution_count": 3,
   "metadata": {
    "collapsed": true
   },
   "outputs": [],
   "source": [
    "key = 'mRawDataId'\n",
    "df = df.sort_values([key],kind='mergesort')\n",
    "df.reset_index(inplace=True,drop=True)"
   ]
  },
  {
   "cell_type": "code",
   "execution_count": 4,
   "metadata": {
    "collapsed": true
   },
   "outputs": [],
   "source": [
    "ids = df[key]\n",
    "\n",
    "audio_folder_path = \"audio_423/\"\n",
    "audio_names = os.listdir(audio_folder_path)"
   ]
  },
  {
   "cell_type": "code",
   "execution_count": 5,
   "metadata": {},
   "outputs": [
    {
     "data": {
      "text/html": [
       "<div>\n",
       "<style>\n",
       "    .dataframe thead tr:only-child th {\n",
       "        text-align: right;\n",
       "    }\n",
       "\n",
       "    .dataframe thead th {\n",
       "        text-align: left;\n",
       "    }\n",
       "\n",
       "    .dataframe tbody tr th {\n",
       "        vertical-align: top;\n",
       "    }\n",
       "</style>\n",
       "<table border=\"1\" class=\"dataframe\">\n",
       "  <thead>\n",
       "    <tr style=\"text-align: right;\">\n",
       "      <th></th>\n",
       "      <th>mRawDataId</th>\n",
       "      <th>mImpressionGuid</th>\n",
       "      <th>mTrafficType</th>\n",
       "      <th>mSRBestDisplayText</th>\n",
       "      <th>mSRBestLexicalForm</th>\n",
       "      <th>mSRLexicalFormN</th>\n",
       "      <th>mSRDeviceLexicalFormN</th>\n",
       "      <th>mSRDisplayTextN</th>\n",
       "      <th>mSRDeviceDisplayTextN</th>\n",
       "      <th>mLUDomain</th>\n",
       "      <th>...</th>\n",
       "      <th>ruleTraversalN</th>\n",
       "      <th>HomophoneGroupIdN</th>\n",
       "      <th>mCUServiceClientInstDeviceInfoManufacturer</th>\n",
       "      <th>ErrorType</th>\n",
       "      <th>isReranked</th>\n",
       "      <th>1stPassResult</th>\n",
       "      <th>mSRLexicalFormRule</th>\n",
       "      <th>mSRLexicalFormRuleRank</th>\n",
       "      <th>SameResult</th>\n",
       "      <th>HomophoneGroupIdMatch</th>\n",
       "    </tr>\n",
       "  </thead>\n",
       "  <tbody>\n",
       "    <tr>\n",
       "      <th>0</th>\n",
       "      <td>0059973D2CFBF8A490C32E76A493BEE3</td>\n",
       "      <td>2D58C96C781749989883DD4774745CEF</td>\n",
       "      <td>Untagged</td>\n",
       "      <td>hey cortana call skype</td>\n",
       "      <td>hey cortana call skype</td>\n",
       "      <td>hey cortana call skype#TAB#hey cortana call sk...</td>\n",
       "      <td>NaN</td>\n",
       "      <td>hey cortana call skype#TAB#hey cortana call sk...</td>\n",
       "      <td>NaN</td>\n",
       "      <td>NaN</td>\n",
       "      <td>...</td>\n",
       "      <td>(loop,(Cortana_SpeakerAdapt_20170208,))#TAB#(l...</td>\n",
       "      <td>0#TAB#0#TAB#0</td>\n",
       "      <td>Harman Kardon</td>\n",
       "      <td>1best_Nbest_single</td>\n",
       "      <td>False</td>\n",
       "      <td>hey cortana call skype</td>\n",
       "      <td>hey cortana call Skype</td>\n",
       "      <td>3</td>\n",
       "      <td>True</td>\n",
       "      <td>True</td>\n",
       "    </tr>\n",
       "    <tr>\n",
       "      <th>1</th>\n",
       "      <td>0077755B48912DF49481965318B973FF</td>\n",
       "      <td>4FF188F7773948A594E0BDC6AE37E71F</td>\n",
       "      <td>Untagged</td>\n",
       "      <td>hey cortana call michael</td>\n",
       "      <td>hey cortana call michael</td>\n",
       "      <td>hey cortana call michael#TAB#hey cortana call ...</td>\n",
       "      <td>NaN</td>\n",
       "      <td>hey cortana call michael#TAB#hey cortana call ...</td>\n",
       "      <td>NaN</td>\n",
       "      <td>NaN</td>\n",
       "      <td>...</td>\n",
       "      <td>(loop,(ULM_AllFlavor_20170425,))#TAB#(loop,(Co...</td>\n",
       "      <td>0#TAB#0#TAB#0#TAB#0#TAB#0</td>\n",
       "      <td>Harman Kardon</td>\n",
       "      <td>1best_Nbest_single</td>\n",
       "      <td>False</td>\n",
       "      <td>hey cortana call michael</td>\n",
       "      <td>hey cortana call Michael</td>\n",
       "      <td>5</td>\n",
       "      <td>True</td>\n",
       "      <td>True</td>\n",
       "    </tr>\n",
       "    <tr>\n",
       "      <th>2</th>\n",
       "      <td>00ADAA5BDC7688B480BA9451692D3E43</td>\n",
       "      <td>0C6C96FE01F04F0DB4E8E3D1D84F02BE</td>\n",
       "      <td>Untagged</td>\n",
       "      <td>hey cortana call AJ</td>\n",
       "      <td>hey cortana call AJ</td>\n",
       "      <td>hey cortana call AJ#TAB#hey cortana call AJ#TA...</td>\n",
       "      <td>NaN</td>\n",
       "      <td>hey cortana call AJ#TAB#hey cortana call AJ#TA...</td>\n",
       "      <td>NaN</td>\n",
       "      <td>NaN</td>\n",
       "      <td>...</td>\n",
       "      <td>(loop,(ULM_AllFlavor_20170322,))#TAB#(loop,(Co...</td>\n",
       "      <td>0#TAB#0#TAB#0#TAB#0</td>\n",
       "      <td>Harman Kardon</td>\n",
       "      <td>1best_Nbest_single</td>\n",
       "      <td>False</td>\n",
       "      <td>hey cortana call AJ</td>\n",
       "      <td>hey cortana call AJ</td>\n",
       "      <td>3</td>\n",
       "      <td>True</td>\n",
       "      <td>True</td>\n",
       "    </tr>\n",
       "    <tr>\n",
       "      <th>3</th>\n",
       "      <td>0171BC1D5B6AD014AFBE12A9C90A534D</td>\n",
       "      <td>9B687F5DA79C4791BA84FE18C1E00DDC</td>\n",
       "      <td>Untagged</td>\n",
       "      <td>hey cortana call river</td>\n",
       "      <td>hey cortana call river</td>\n",
       "      <td>hey cortana call river#TAB#hey cortana call ri...</td>\n",
       "      <td>NaN</td>\n",
       "      <td>hey cortana call river#TAB#hey cortana call ri...</td>\n",
       "      <td>NaN</td>\n",
       "      <td>NaN</td>\n",
       "      <td>...</td>\n",
       "      <td>(loop,(ULM_AllFlavor_20170425,))#TAB#(loop,(Co...</td>\n",
       "      <td>0#TAB#0#TAB#0#TAB#1#TAB#2</td>\n",
       "      <td>Harman Kardon</td>\n",
       "      <td>1best_Nbest_single</td>\n",
       "      <td>False</td>\n",
       "      <td>hey cortana call river</td>\n",
       "      <td>hey cortana call river</td>\n",
       "      <td>2</td>\n",
       "      <td>True</td>\n",
       "      <td>True</td>\n",
       "    </tr>\n",
       "    <tr>\n",
       "      <th>4</th>\n",
       "      <td>0197DA6C3F0CBF24ACC2DE26ECBB8A3A</td>\n",
       "      <td>1DB6D2CF768A419AA0673A93658FCB58</td>\n",
       "      <td>Untagged</td>\n",
       "      <td>hey cortana skype echo</td>\n",
       "      <td>hey cortana skype echo</td>\n",
       "      <td>hey cortana skype echo#TAB#hey cortana skype Echo</td>\n",
       "      <td>NaN</td>\n",
       "      <td>hey cortana skype echo#TAB#hey cortana skype Echo</td>\n",
       "      <td>NaN</td>\n",
       "      <td>NaN</td>\n",
       "      <td>...</td>\n",
       "      <td>(loop,(ULM_AllFlavor_20170425,))#TAB#(loop,(Co...</td>\n",
       "      <td>0#TAB#0</td>\n",
       "      <td>Harman Kardon</td>\n",
       "      <td>1best_Nbest_single</td>\n",
       "      <td>False</td>\n",
       "      <td>hey cortana skype echo</td>\n",
       "      <td>hey cortana skype Echo</td>\n",
       "      <td>2</td>\n",
       "      <td>True</td>\n",
       "      <td>True</td>\n",
       "    </tr>\n",
       "  </tbody>\n",
       "</table>\n",
       "<p>5 rows × 34 columns</p>\n",
       "</div>"
      ],
      "text/plain": [
       "                         mRawDataId                   mImpressionGuid  \\\n",
       "0  0059973D2CFBF8A490C32E76A493BEE3  2D58C96C781749989883DD4774745CEF   \n",
       "1  0077755B48912DF49481965318B973FF  4FF188F7773948A594E0BDC6AE37E71F   \n",
       "2  00ADAA5BDC7688B480BA9451692D3E43  0C6C96FE01F04F0DB4E8E3D1D84F02BE   \n",
       "3  0171BC1D5B6AD014AFBE12A9C90A534D  9B687F5DA79C4791BA84FE18C1E00DDC   \n",
       "4  0197DA6C3F0CBF24ACC2DE26ECBB8A3A  1DB6D2CF768A419AA0673A93658FCB58   \n",
       "\n",
       "  mTrafficType        mSRBestDisplayText        mSRBestLexicalForm  \\\n",
       "0     Untagged    hey cortana call skype    hey cortana call skype   \n",
       "1     Untagged  hey cortana call michael  hey cortana call michael   \n",
       "2     Untagged       hey cortana call AJ       hey cortana call AJ   \n",
       "3     Untagged    hey cortana call river    hey cortana call river   \n",
       "4     Untagged    hey cortana skype echo    hey cortana skype echo   \n",
       "\n",
       "                                     mSRLexicalFormN  mSRDeviceLexicalFormN  \\\n",
       "0  hey cortana call skype#TAB#hey cortana call sk...                    NaN   \n",
       "1  hey cortana call michael#TAB#hey cortana call ...                    NaN   \n",
       "2  hey cortana call AJ#TAB#hey cortana call AJ#TA...                    NaN   \n",
       "3  hey cortana call river#TAB#hey cortana call ri...                    NaN   \n",
       "4  hey cortana skype echo#TAB#hey cortana skype Echo                    NaN   \n",
       "\n",
       "                                     mSRDisplayTextN  mSRDeviceDisplayTextN  \\\n",
       "0  hey cortana call skype#TAB#hey cortana call sk...                    NaN   \n",
       "1  hey cortana call michael#TAB#hey cortana call ...                    NaN   \n",
       "2  hey cortana call AJ#TAB#hey cortana call AJ#TA...                    NaN   \n",
       "3  hey cortana call river#TAB#hey cortana call ri...                    NaN   \n",
       "4  hey cortana skype echo#TAB#hey cortana skype Echo                    NaN   \n",
       "\n",
       "   mLUDomain          ...           \\\n",
       "0        NaN          ...            \n",
       "1        NaN          ...            \n",
       "2        NaN          ...            \n",
       "3        NaN          ...            \n",
       "4        NaN          ...            \n",
       "\n",
       "                                      ruleTraversalN  \\\n",
       "0  (loop,(Cortana_SpeakerAdapt_20170208,))#TAB#(l...   \n",
       "1  (loop,(ULM_AllFlavor_20170425,))#TAB#(loop,(Co...   \n",
       "2  (loop,(ULM_AllFlavor_20170322,))#TAB#(loop,(Co...   \n",
       "3  (loop,(ULM_AllFlavor_20170425,))#TAB#(loop,(Co...   \n",
       "4  (loop,(ULM_AllFlavor_20170425,))#TAB#(loop,(Co...   \n",
       "\n",
       "           HomophoneGroupIdN mCUServiceClientInstDeviceInfoManufacturer  \\\n",
       "0              0#TAB#0#TAB#0                              Harman Kardon   \n",
       "1  0#TAB#0#TAB#0#TAB#0#TAB#0                              Harman Kardon   \n",
       "2        0#TAB#0#TAB#0#TAB#0                              Harman Kardon   \n",
       "3  0#TAB#0#TAB#0#TAB#1#TAB#2                              Harman Kardon   \n",
       "4                    0#TAB#0                              Harman Kardon   \n",
       "\n",
       "            ErrorType isReranked             1stPassResult  \\\n",
       "0  1best_Nbest_single      False    hey cortana call skype   \n",
       "1  1best_Nbest_single      False  hey cortana call michael   \n",
       "2  1best_Nbest_single      False       hey cortana call AJ   \n",
       "3  1best_Nbest_single      False    hey cortana call river   \n",
       "4  1best_Nbest_single      False    hey cortana skype echo   \n",
       "\n",
       "         mSRLexicalFormRule mSRLexicalFormRuleRank SameResult  \\\n",
       "0    hey cortana call Skype                      3       True   \n",
       "1  hey cortana call Michael                      5       True   \n",
       "2       hey cortana call AJ                      3       True   \n",
       "3    hey cortana call river                      2       True   \n",
       "4    hey cortana skype Echo                      2       True   \n",
       "\n",
       "  HomophoneGroupIdMatch  \n",
       "0                  True  \n",
       "1                  True  \n",
       "2                  True  \n",
       "3                  True  \n",
       "4                  True  \n",
       "\n",
       "[5 rows x 34 columns]"
      ]
     },
     "execution_count": 5,
     "metadata": {},
     "output_type": "execute_result"
    }
   ],
   "source": [
    "df.head()"
   ]
  },
  {
   "cell_type": "code",
   "execution_count": 6,
   "metadata": {},
   "outputs": [
    {
     "data": {
      "text/plain": [
       "['0059973D2CFBF8A490C32E76A493BEE3.wav',\n",
       " '0077755B48912DF49481965318B973FF.wav',\n",
       " '00ADAA5BDC7688B480BA9451692D3E43.wav',\n",
       " '0171BC1D5B6AD014AFBE12A9C90A534D.wav',\n",
       " '0197DA6C3F0CBF24ACC2DE26ECBB8A3A.wav']"
      ]
     },
     "execution_count": 6,
     "metadata": {},
     "output_type": "execute_result"
    }
   ],
   "source": [
    "audio_names[:5]"
   ]
  },
  {
   "cell_type": "code",
   "execution_count": 9,
   "metadata": {
    "collapsed": true
   },
   "outputs": [],
   "source": [
    "new_names = [''.join(['./audio_423/',x]) for x in audio_names]"
   ]
  },
  {
   "cell_type": "code",
   "execution_count": 10,
   "metadata": {},
   "outputs": [
    {
     "data": {
      "text/plain": [
       "['./audio_423/0059973D2CFBF8A490C32E76A493BEE3.wav',\n",
       " './audio_423/0077755B48912DF49481965318B973FF.wav',\n",
       " './audio_423/00ADAA5BDC7688B480BA9451692D3E43.wav',\n",
       " './audio_423/0171BC1D5B6AD014AFBE12A9C90A534D.wav',\n",
       " './audio_423/0197DA6C3F0CBF24ACC2DE26ECBB8A3A.wav']"
      ]
     },
     "execution_count": 10,
     "metadata": {},
     "output_type": "execute_result"
    }
   ],
   "source": [
    "new_names[0:5]"
   ]
  },
  {
   "cell_type": "code",
   "execution_count": 11,
   "metadata": {
    "collapsed": true
   },
   "outputs": [],
   "source": [
    "ids = [x.strip('.wav') for x in audio_names]"
   ]
  },
  {
   "cell_type": "code",
   "execution_count": 12,
   "metadata": {},
   "outputs": [
    {
     "data": {
      "text/plain": [
       "['0059973D2CFBF8A490C32E76A493BEE3',\n",
       " '0077755B48912DF49481965318B973FF',\n",
       " '00ADAA5BDC7688B480BA9451692D3E43',\n",
       " '0171BC1D5B6AD014AFBE12A9C90A534D',\n",
       " '0197DA6C3F0CBF24ACC2DE26ECBB8A3A']"
      ]
     },
     "execution_count": 12,
     "metadata": {},
     "output_type": "execute_result"
    }
   ],
   "source": [
    "ids[0:5]"
   ]
  },
  {
   "cell_type": "code",
   "execution_count": 14,
   "metadata": {},
   "outputs": [
    {
     "data": {
      "text/plain": [
       "'0059973D2CFBF8A490C32E76A493BEE3'"
      ]
     },
     "execution_count": 14,
     "metadata": {},
     "output_type": "execute_result"
    }
   ],
   "source": [
    "df['mRawDataId'][0]"
   ]
  },
  {
   "cell_type": "code",
   "execution_count": 15,
   "metadata": {},
   "outputs": [],
   "source": [
    "Audio_hyperlik = []\n",
    "for i in range(df.shape[0]):\n",
    "    this_id = df['mRawDataId'][i]\n",
    "    if this_id in ids:\n",
    "        Audio_hyperlik.append(''.join(['./audio_423/',this_id,'.wav']))\n",
    "    else:\n",
    "        Audio_hyperlik.append('')"
   ]
  },
  {
   "cell_type": "code",
   "execution_count": 17,
   "metadata": {},
   "outputs": [
    {
     "data": {
      "text/plain": [
       "424"
      ]
     },
     "execution_count": 17,
     "metadata": {},
     "output_type": "execute_result"
    }
   ],
   "source": [
    "len(Audio_hyperlik)"
   ]
  },
  {
   "cell_type": "code",
   "execution_count": 20,
   "metadata": {},
   "outputs": [
    {
     "data": {
      "text/plain": [
       "False"
      ]
     },
     "execution_count": 20,
     "metadata": {},
     "output_type": "execute_result"
    }
   ],
   "source": [
    "Audio_hyperlik == ''"
   ]
  },
  {
   "cell_type": "code",
   "execution_count": 21,
   "metadata": {},
   "outputs": [
    {
     "data": {
      "text/plain": [
       "2"
      ]
     },
     "execution_count": 21,
     "metadata": {},
     "output_type": "execute_result"
    }
   ],
   "source": [
    "sum([x=='' for x in Audio_hyperlik])"
   ]
  },
  {
   "cell_type": "code",
   "execution_count": 22,
   "metadata": {
    "collapsed": true
   },
   "outputs": [],
   "source": [
    "df['Audio_hyperlink'] = Audio_hyperlik"
   ]
  },
  {
   "cell_type": "code",
   "execution_count": 28,
   "metadata": {},
   "outputs": [],
   "source": [
    "df.to_csv('data_with_audio.csv',sep=',',index = False,encoding = 'utf-8')"
   ]
  },
  {
   "cell_type": "code",
   "execution_count": 26,
   "metadata": {},
   "outputs": [
    {
     "data": {
      "text/html": [
       "<div>\n",
       "<style>\n",
       "    .dataframe thead tr:only-child th {\n",
       "        text-align: right;\n",
       "    }\n",
       "\n",
       "    .dataframe thead th {\n",
       "        text-align: left;\n",
       "    }\n",
       "\n",
       "    .dataframe tbody tr th {\n",
       "        vertical-align: top;\n",
       "    }\n",
       "</style>\n",
       "<table border=\"1\" class=\"dataframe\">\n",
       "  <thead>\n",
       "    <tr style=\"text-align: right;\">\n",
       "      <th></th>\n",
       "      <th>mRawDataId</th>\n",
       "      <th>mImpressionGuid</th>\n",
       "      <th>mTrafficType</th>\n",
       "      <th>mSRBestDisplayText</th>\n",
       "      <th>mSRBestLexicalForm</th>\n",
       "      <th>mSRLexicalFormN</th>\n",
       "      <th>mSRDeviceLexicalFormN</th>\n",
       "      <th>mSRDisplayTextN</th>\n",
       "      <th>mSRDeviceDisplayTextN</th>\n",
       "      <th>mLUDomain</th>\n",
       "      <th>...</th>\n",
       "      <th>HomophoneGroupIdN</th>\n",
       "      <th>mCUServiceClientInstDeviceInfoManufacturer</th>\n",
       "      <th>ErrorType</th>\n",
       "      <th>isReranked</th>\n",
       "      <th>1stPassResult</th>\n",
       "      <th>mSRLexicalFormRule</th>\n",
       "      <th>mSRLexicalFormRuleRank</th>\n",
       "      <th>SameResult</th>\n",
       "      <th>HomophoneGroupIdMatch</th>\n",
       "      <th>Audio_hyperlink</th>\n",
       "    </tr>\n",
       "  </thead>\n",
       "  <tbody>\n",
       "    <tr>\n",
       "      <th>0</th>\n",
       "      <td>0059973D2CFBF8A490C32E76A493BEE3</td>\n",
       "      <td>2D58C96C781749989883DD4774745CEF</td>\n",
       "      <td>Untagged</td>\n",
       "      <td>hey cortana call skype</td>\n",
       "      <td>hey cortana call skype</td>\n",
       "      <td>hey cortana call skype#TAB#hey cortana call sk...</td>\n",
       "      <td>NaN</td>\n",
       "      <td>hey cortana call skype#TAB#hey cortana call sk...</td>\n",
       "      <td>NaN</td>\n",
       "      <td>NaN</td>\n",
       "      <td>...</td>\n",
       "      <td>0#TAB#0#TAB#0</td>\n",
       "      <td>Harman Kardon</td>\n",
       "      <td>1best_Nbest_single</td>\n",
       "      <td>False</td>\n",
       "      <td>hey cortana call skype</td>\n",
       "      <td>hey cortana call Skype</td>\n",
       "      <td>3</td>\n",
       "      <td>True</td>\n",
       "      <td>True</td>\n",
       "      <td>./audio_423/0059973D2CFBF8A490C32E76A493BEE3.wav</td>\n",
       "    </tr>\n",
       "    <tr>\n",
       "      <th>1</th>\n",
       "      <td>0077755B48912DF49481965318B973FF</td>\n",
       "      <td>4FF188F7773948A594E0BDC6AE37E71F</td>\n",
       "      <td>Untagged</td>\n",
       "      <td>hey cortana call michael</td>\n",
       "      <td>hey cortana call michael</td>\n",
       "      <td>hey cortana call michael#TAB#hey cortana call ...</td>\n",
       "      <td>NaN</td>\n",
       "      <td>hey cortana call michael#TAB#hey cortana call ...</td>\n",
       "      <td>NaN</td>\n",
       "      <td>NaN</td>\n",
       "      <td>...</td>\n",
       "      <td>0#TAB#0#TAB#0#TAB#0#TAB#0</td>\n",
       "      <td>Harman Kardon</td>\n",
       "      <td>1best_Nbest_single</td>\n",
       "      <td>False</td>\n",
       "      <td>hey cortana call michael</td>\n",
       "      <td>hey cortana call Michael</td>\n",
       "      <td>5</td>\n",
       "      <td>True</td>\n",
       "      <td>True</td>\n",
       "      <td>./audio_423/0077755B48912DF49481965318B973FF.wav</td>\n",
       "    </tr>\n",
       "    <tr>\n",
       "      <th>2</th>\n",
       "      <td>00ADAA5BDC7688B480BA9451692D3E43</td>\n",
       "      <td>0C6C96FE01F04F0DB4E8E3D1D84F02BE</td>\n",
       "      <td>Untagged</td>\n",
       "      <td>hey cortana call AJ</td>\n",
       "      <td>hey cortana call AJ</td>\n",
       "      <td>hey cortana call AJ#TAB#hey cortana call AJ#TA...</td>\n",
       "      <td>NaN</td>\n",
       "      <td>hey cortana call AJ#TAB#hey cortana call AJ#TA...</td>\n",
       "      <td>NaN</td>\n",
       "      <td>NaN</td>\n",
       "      <td>...</td>\n",
       "      <td>0#TAB#0#TAB#0#TAB#0</td>\n",
       "      <td>Harman Kardon</td>\n",
       "      <td>1best_Nbest_single</td>\n",
       "      <td>False</td>\n",
       "      <td>hey cortana call AJ</td>\n",
       "      <td>hey cortana call AJ</td>\n",
       "      <td>3</td>\n",
       "      <td>True</td>\n",
       "      <td>True</td>\n",
       "      <td>./audio_423/00ADAA5BDC7688B480BA9451692D3E43.wav</td>\n",
       "    </tr>\n",
       "    <tr>\n",
       "      <th>3</th>\n",
       "      <td>0171BC1D5B6AD014AFBE12A9C90A534D</td>\n",
       "      <td>9B687F5DA79C4791BA84FE18C1E00DDC</td>\n",
       "      <td>Untagged</td>\n",
       "      <td>hey cortana call river</td>\n",
       "      <td>hey cortana call river</td>\n",
       "      <td>hey cortana call river#TAB#hey cortana call ri...</td>\n",
       "      <td>NaN</td>\n",
       "      <td>hey cortana call river#TAB#hey cortana call ri...</td>\n",
       "      <td>NaN</td>\n",
       "      <td>NaN</td>\n",
       "      <td>...</td>\n",
       "      <td>0#TAB#0#TAB#0#TAB#1#TAB#2</td>\n",
       "      <td>Harman Kardon</td>\n",
       "      <td>1best_Nbest_single</td>\n",
       "      <td>False</td>\n",
       "      <td>hey cortana call river</td>\n",
       "      <td>hey cortana call river</td>\n",
       "      <td>2</td>\n",
       "      <td>True</td>\n",
       "      <td>True</td>\n",
       "      <td>./audio_423/0171BC1D5B6AD014AFBE12A9C90A534D.wav</td>\n",
       "    </tr>\n",
       "    <tr>\n",
       "      <th>4</th>\n",
       "      <td>0197DA6C3F0CBF24ACC2DE26ECBB8A3A</td>\n",
       "      <td>1DB6D2CF768A419AA0673A93658FCB58</td>\n",
       "      <td>Untagged</td>\n",
       "      <td>hey cortana skype echo</td>\n",
       "      <td>hey cortana skype echo</td>\n",
       "      <td>hey cortana skype echo#TAB#hey cortana skype Echo</td>\n",
       "      <td>NaN</td>\n",
       "      <td>hey cortana skype echo#TAB#hey cortana skype Echo</td>\n",
       "      <td>NaN</td>\n",
       "      <td>NaN</td>\n",
       "      <td>...</td>\n",
       "      <td>0#TAB#0</td>\n",
       "      <td>Harman Kardon</td>\n",
       "      <td>1best_Nbest_single</td>\n",
       "      <td>False</td>\n",
       "      <td>hey cortana skype echo</td>\n",
       "      <td>hey cortana skype Echo</td>\n",
       "      <td>2</td>\n",
       "      <td>True</td>\n",
       "      <td>True</td>\n",
       "      <td>./audio_423/0197DA6C3F0CBF24ACC2DE26ECBB8A3A.wav</td>\n",
       "    </tr>\n",
       "  </tbody>\n",
       "</table>\n",
       "<p>5 rows × 35 columns</p>\n",
       "</div>"
      ],
      "text/plain": [
       "                         mRawDataId                   mImpressionGuid  \\\n",
       "0  0059973D2CFBF8A490C32E76A493BEE3  2D58C96C781749989883DD4774745CEF   \n",
       "1  0077755B48912DF49481965318B973FF  4FF188F7773948A594E0BDC6AE37E71F   \n",
       "2  00ADAA5BDC7688B480BA9451692D3E43  0C6C96FE01F04F0DB4E8E3D1D84F02BE   \n",
       "3  0171BC1D5B6AD014AFBE12A9C90A534D  9B687F5DA79C4791BA84FE18C1E00DDC   \n",
       "4  0197DA6C3F0CBF24ACC2DE26ECBB8A3A  1DB6D2CF768A419AA0673A93658FCB58   \n",
       "\n",
       "  mTrafficType        mSRBestDisplayText        mSRBestLexicalForm  \\\n",
       "0     Untagged    hey cortana call skype    hey cortana call skype   \n",
       "1     Untagged  hey cortana call michael  hey cortana call michael   \n",
       "2     Untagged       hey cortana call AJ       hey cortana call AJ   \n",
       "3     Untagged    hey cortana call river    hey cortana call river   \n",
       "4     Untagged    hey cortana skype echo    hey cortana skype echo   \n",
       "\n",
       "                                     mSRLexicalFormN  mSRDeviceLexicalFormN  \\\n",
       "0  hey cortana call skype#TAB#hey cortana call sk...                    NaN   \n",
       "1  hey cortana call michael#TAB#hey cortana call ...                    NaN   \n",
       "2  hey cortana call AJ#TAB#hey cortana call AJ#TA...                    NaN   \n",
       "3  hey cortana call river#TAB#hey cortana call ri...                    NaN   \n",
       "4  hey cortana skype echo#TAB#hey cortana skype Echo                    NaN   \n",
       "\n",
       "                                     mSRDisplayTextN  mSRDeviceDisplayTextN  \\\n",
       "0  hey cortana call skype#TAB#hey cortana call sk...                    NaN   \n",
       "1  hey cortana call michael#TAB#hey cortana call ...                    NaN   \n",
       "2  hey cortana call AJ#TAB#hey cortana call AJ#TA...                    NaN   \n",
       "3  hey cortana call river#TAB#hey cortana call ri...                    NaN   \n",
       "4  hey cortana skype echo#TAB#hey cortana skype Echo                    NaN   \n",
       "\n",
       "   mLUDomain                        ...                         \\\n",
       "0        NaN                        ...                          \n",
       "1        NaN                        ...                          \n",
       "2        NaN                        ...                          \n",
       "3        NaN                        ...                          \n",
       "4        NaN                        ...                          \n",
       "\n",
       "           HomophoneGroupIdN  mCUServiceClientInstDeviceInfoManufacturer  \\\n",
       "0              0#TAB#0#TAB#0                               Harman Kardon   \n",
       "1  0#TAB#0#TAB#0#TAB#0#TAB#0                               Harman Kardon   \n",
       "2        0#TAB#0#TAB#0#TAB#0                               Harman Kardon   \n",
       "3  0#TAB#0#TAB#0#TAB#1#TAB#2                               Harman Kardon   \n",
       "4                    0#TAB#0                               Harman Kardon   \n",
       "\n",
       "            ErrorType isReranked             1stPassResult  \\\n",
       "0  1best_Nbest_single      False    hey cortana call skype   \n",
       "1  1best_Nbest_single      False  hey cortana call michael   \n",
       "2  1best_Nbest_single      False       hey cortana call AJ   \n",
       "3  1best_Nbest_single      False    hey cortana call river   \n",
       "4  1best_Nbest_single      False    hey cortana skype echo   \n",
       "\n",
       "         mSRLexicalFormRule mSRLexicalFormRuleRank SameResult  \\\n",
       "0    hey cortana call Skype                      3       True   \n",
       "1  hey cortana call Michael                      5       True   \n",
       "2       hey cortana call AJ                      3       True   \n",
       "3    hey cortana call river                      2       True   \n",
       "4    hey cortana skype Echo                      2       True   \n",
       "\n",
       "  HomophoneGroupIdMatch                                   Audio_hyperlink  \n",
       "0                  True  ./audio_423/0059973D2CFBF8A490C32E76A493BEE3.wav  \n",
       "1                  True  ./audio_423/0077755B48912DF49481965318B973FF.wav  \n",
       "2                  True  ./audio_423/00ADAA5BDC7688B480BA9451692D3E43.wav  \n",
       "3                  True  ./audio_423/0171BC1D5B6AD014AFBE12A9C90A534D.wav  \n",
       "4                  True  ./audio_423/0197DA6C3F0CBF24ACC2DE26ECBB8A3A.wav  \n",
       "\n",
       "[5 rows x 35 columns]"
      ]
     },
     "execution_count": 26,
     "metadata": {},
     "output_type": "execute_result"
    }
   ],
   "source": [
    "df.head()"
   ]
  },
  {
   "cell_type": "code",
   "execution_count": null,
   "metadata": {
    "collapsed": true
   },
   "outputs": [],
   "source": []
  }
 ],
 "metadata": {
  "kernelspec": {
   "display_name": "Python 3",
   "language": "python",
   "name": "python3"
  },
  "language_info": {
   "codemirror_mode": {
    "name": "ipython",
    "version": 3
   },
   "file_extension": ".py",
   "mimetype": "text/x-python",
   "name": "python",
   "nbconvert_exporter": "python",
   "pygments_lexer": "ipython3",
   "version": "3.6.1"
  }
 },
 "nbformat": 4,
 "nbformat_minor": 2
}
